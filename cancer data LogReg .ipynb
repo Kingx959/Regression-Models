{
 "cells": [
  {
   "cell_type": "markdown",
   "id": "7a023610",
   "metadata": {},
   "source": [
    "# logistic regression ML model for caner data set."
   ]
  },
  {
   "cell_type": "code",
   "execution_count": 2,
   "id": "cf940b59",
   "metadata": {},
   "outputs": [
    {
     "name": "stdout",
     "output_type": "stream",
     "text": [
      "Classification Report:\n",
      "               precision    recall  f1-score   support\n",
      "\n",
      "      benign       0.97      0.99      0.98        71\n",
      "   malignant       0.98      0.95      0.96        43\n",
      "\n",
      "    accuracy                           0.97       114\n",
      "   macro avg       0.97      0.97      0.97       114\n",
      "weighted avg       0.97      0.97      0.97       114\n",
      "\n",
      "AUC-ROC Score: 0.99737962659679\n"
     ]
    }
   ],
   "source": [
    "import pandas as pd\n",
    "from sklearn.model_selection import train_test_split\n",
    "from sklearn.preprocessing import StandardScaler\n",
    "from sklearn.linear_model import LogisticRegression\n",
    "from sklearn.metrics import classification_report, roc_auc_score\n",
    "import joblib\n",
    "\n",
    "# Read the CSV file into a DataFrame\n",
    "data = pd.read_csv(\"Cancer_Data.csv\")\n",
    "\n",
    "# Assume the target variable is named 'target' and features are other columns\n",
    "X = data.drop('diagnosis', axis=1)\n",
    "y = data['diagnosis']\n",
    "\n",
    "# Split the data into training and testing sets\n",
    "X_train, X_test, y_train, y_test = train_test_split(X, y, test_size=0.2, random_state=42)\n",
    "\n",
    "# Initialize the StandardScaler\n",
    "scaler = StandardScaler()\n",
    "\n",
    "# Fit the scaler on the training data and transform both training and testing data\n",
    "X_train_scaled = scaler.fit_transform(X_train)\n",
    "X_test_scaled = scaler.transform(X_test)\n",
    "\n",
    "# Initialize the Logistic Regression model\n",
    "model = LogisticRegression()\n",
    "\n",
    "# Train the model on the scaled training data\n",
    "model.fit(X_train_scaled, y_train)\n",
    "\n",
    "\n",
    "\n",
    "# Predict on the scaled testing data\n",
    "y_pred = model.predict(X_test_scaled)\n",
    "\n",
    "# Get predicted probabilities\n",
    "y_pred_prob = model.predict_proba(X_test_scaled)[:, 1]\n",
    "\n",
    "# Calculate and print classification report\n",
    "classification_rep = classification_report(y_test, y_pred, target_names=[\"benign\",\"malignant\"])\n",
    "print(\"Classification Report:\\n\", classification_rep)\n",
    "\n",
    "# Calculate and print AUC-ROC score\n",
    "auc_roc = roc_auc_score(y_test, y_pred_prob)\n",
    "print(\"AUC-ROC Score:\", auc_roc)\n"
   ]
  },
  {
   "cell_type": "code",
   "execution_count": 5,
   "id": "56056ae7",
   "metadata": {},
   "outputs": [
    {
     "name": "stdout",
     "output_type": "stream",
     "text": [
      "Model saved as 'logistic_regression_model.pkl' and scaler saved as 'feature_scaler.pkl'\n"
     ]
    }
   ],
   "source": [
    "# Save the trained model and scaler to files using joblib\n",
    "model_filename = \"logistic_regression_model.pkl\"\n",
    "scaler_filename = \"feature_scaler.pkl\"\n",
    "joblib.dump(model, model_filename)\n",
    "joblib.dump(scaler, scaler_filename)\n",
    "print(f\"Model saved as '{model_filename}' and scaler saved as '{scaler_filename}'\")"
   ]
  },
  {
   "cell_type": "code",
   "execution_count": 4,
   "id": "75ba0c64",
   "metadata": {},
   "outputs": [
    {
     "name": "stdout",
     "output_type": "stream",
     "text": [
      "['B']\n"
     ]
    }
   ],
   "source": [
    "from sklearn.metrics import accuracy_score\n",
    "import joblib\n",
    "import pandas as pd\n",
    "import numpy as np\n",
    "\n",
    "loaded_model = joblib.load(\"logistic_regression_model.pkl\")\n",
    "loaded_scaler = joblib.load(\"feature_scaler.pkl\")\n",
    "new_data =pd.read_csv(\"cancer_practiceData.csv\")  # Load your new data as a DataFrame\n",
    "\n",
    "# Scale the new data using the loaded scaler\n",
    "new_data_scaled = loaded_scaler.transform(new_data)\n",
    "\n",
    "# Make predictions using the loaded model\n",
    "new_predictions = loaded_model.predict(new_data_scaled)\n",
    "\n",
    "print(new_predictions)\n",
    "\n",
    "\n",
    "\n",
    "\n"
   ]
  }
 ],
 "metadata": {
  "kernelspec": {
   "display_name": "Python 3 (ipykernel)",
   "language": "python",
   "name": "python3"
  },
  "language_info": {
   "codemirror_mode": {
    "name": "ipython",
    "version": 3
   },
   "file_extension": ".py",
   "mimetype": "text/x-python",
   "name": "python",
   "nbconvert_exporter": "python",
   "pygments_lexer": "ipython3",
   "version": "3.10.9"
  }
 },
 "nbformat": 4,
 "nbformat_minor": 5
}
